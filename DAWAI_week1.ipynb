{
 "cells": [
  {
   "cell_type": "code",
   "execution_count": 4,
   "id": "768056bb",
   "metadata": {},
   "outputs": [
    {
     "name": "stdout",
     "output_type": "stream",
     "text": [
      "Missing Values:\n",
      "B_COUNTRY    0\n",
      "A_YEAR       0\n",
      "Q49          0\n",
      "Q71          0\n",
      "Q50          0\n",
      "Q57          0\n",
      "Q70          0\n",
      "Q73          0\n",
      "Q75          0\n",
      "Q78          0\n",
      "Q56          0\n",
      "dtype: int64\n",
      "\n",
      "Descriptive Statistics:\n",
      "       count      Mean   Std Dev  Min   Q1  Median   Q3   Max\n",
      "Q49  97220.0  7.012312  2.336692 -5.0  6.0     7.0  9.0  10.0\n",
      "Q71  97220.0  2.460307  1.350511 -5.0  2.0     3.0  3.0   4.0\n",
      "Q50  97220.0  6.155832  2.510540 -5.0  5.0     6.0  8.0  10.0\n",
      "Q57  97220.0  1.704300  0.645985 -5.0  1.0     2.0  2.0   2.0\n",
      "Q70  97220.0  2.250802  1.307627 -5.0  2.0     2.0  3.0   4.0\n",
      "Q56  97220.0  1.666478  0.974080 -5.0  1.0     1.0  3.0   3.0\n"
     ]
    }
   ],
   "source": [
    "import pandas as pd\n",
    "\n",
    "# Load the dataset\n",
    "df = pd.read_csv(\"C:/Users/Poghosyan_Syuzanna/Desktop/SyuzannaPoghosyan/WVS_subset.csv\", low_memory=False)\n",
    "df\n",
    "\n",
    "# Select relevant columns\n",
    "selected_columns = [\"B_COUNTRY\", \"A_YEAR\", \"Q49\", \"Q71\", \"Q50\", \"Q57\", \n",
    "                    \"Q70\", \"Q73\", \"Q75\", \"Q78\", \"Q56\"]\n",
    "df_selected = df[selected_columns]\n",
    "\n",
    "# Check for missing values\n",
    "missing_values = df_selected.isnull().sum()\n",
    "print(\"Missing Values:\")\n",
    "print(missing_values)\n",
    "\n",
    "# Compute descriptive statistics\n",
    "descriptive_stats = df_selected[[\"Q49\", \"Q71\", \"Q50\", \"Q57\", \"Q70\", \"Q56\"]].describe().T\n",
    "\n",
    "# Rename columns for clarity\n",
    "descriptive_stats = descriptive_stats.rename(columns={\n",
    "    \"mean\": \"Mean\",\n",
    "    \"std\": \"Std Dev\",\n",
    "    \"min\": \"Min\",\n",
    "    \"25%\": \"Q1\",\n",
    "    \"50%\": \"Median\",\n",
    "    \"75%\": \"Q3\",\n",
    "    \"max\": \"Max\"\n",
    "})\n",
    "\n",
    "# Display the descriptive statistics table\n",
    "print(\"\\nDescriptive Statistics:\")\n",
    "print(descriptive_stats)\n"
   ]
  },
  {
   "cell_type": "code",
   "execution_count": null,
   "id": "c902f501",
   "metadata": {},
   "outputs": [],
   "source": []
  }
 ],
 "metadata": {
  "kernelspec": {
   "display_name": "Python 3 (ipykernel)",
   "language": "python",
   "name": "python3"
  },
  "language_info": {
   "codemirror_mode": {
    "name": "ipython",
    "version": 3
   },
   "file_extension": ".py",
   "mimetype": "text/x-python",
   "name": "python",
   "nbconvert_exporter": "python",
   "pygments_lexer": "ipython3",
   "version": "3.9.12"
  }
 },
 "nbformat": 4,
 "nbformat_minor": 5
}
